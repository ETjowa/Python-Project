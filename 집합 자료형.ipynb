{
 "cells": [
  {
   "cell_type": "code",
   "execution_count": 1,
   "id": "ee986ba6-da50-447f-92da-e5841902a8d1",
   "metadata": {},
   "outputs": [],
   "source": [
    "# 집합 자료형 -> 증복된 데이터를 없애고 고유한 데이터만 봐야할 때\n",
    "# 주요 성질 1. 순서가 없다. 2. 중복을 허용하지 않는다.\n",
    "\n",
    "A = {1,2,3,4,5,6} # 콜론은 딕셔너리, 콤마는 집합 비어있는건 딕셔리리\n",
    "B = {4,5,6,7,8,9,10}"
   ]
  },
  {
   "cell_type": "code",
   "execution_count": 5,
   "id": "e956223a-4995-4d38-a7ab-0f8e3040bb4b",
   "metadata": {},
   "outputs": [],
   "source": [
    "C = {} # 딕셔너리\n",
    "\n",
    "#비어 있는 거 만들 때\n",
    "C = dict()\n",
    "D = set() # 비어있는 집합은 set으로 만들자."
   ]
  },
  {
   "cell_type": "code",
   "execution_count": 7,
   "id": "059115cc-ce70-4abd-8f26-17b484b53409",
   "metadata": {},
   "outputs": [
    {
     "data": {
      "text/plain": [
       "{4, 5, 6}"
      ]
     },
     "execution_count": 7,
     "metadata": {},
     "output_type": "execute_result"
    }
   ],
   "source": [
    "# 교집합\n",
    "A & B"
   ]
  },
  {
   "cell_type": "code",
   "execution_count": 8,
   "id": "d645ee70-041f-4b83-b385-a2e2415492fc",
   "metadata": {},
   "outputs": [
    {
     "data": {
      "text/plain": [
       "{1, 2, 3, 4, 5, 6, 7, 8, 9}"
      ]
     },
     "execution_count": 8,
     "metadata": {},
     "output_type": "execute_result"
    }
   ],
   "source": [
    "# 합집합\n",
    "A | B # shift + \\"
   ]
  },
  {
   "cell_type": "code",
   "execution_count": 9,
   "id": "77fc0411-45da-4dbf-98a6-5a2f24355131",
   "metadata": {},
   "outputs": [
    {
     "data": {
      "text/plain": [
       "{1, 2, 3, 7, 8, 9}"
      ]
     },
     "execution_count": 9,
     "metadata": {},
     "output_type": "execute_result"
    }
   ],
   "source": [
    "# 대칭차집합 : 합집합에서 교집합 뺀 것\n",
    "A ^ B"
   ]
  },
  {
   "cell_type": "code",
   "execution_count": 13,
   "id": "20c605d9-fc96-4ff0-b94c-b31b05007c17",
   "metadata": {},
   "outputs": [
    {
     "data": {
      "text/plain": [
       "{1, 2, 3, 4, 5, 6, 7}"
      ]
     },
     "execution_count": 13,
     "metadata": {},
     "output_type": "execute_result"
    }
   ],
   "source": [
    "A.add(7) # 한 개의 값을 추가\n",
    "A"
   ]
  },
  {
   "cell_type": "code",
   "execution_count": 19,
   "id": "e02dc024-657d-427f-b51b-f65ab073681e",
   "metadata": {},
   "outputs": [
    {
     "data": {
      "text/plain": [
       "{1, 2, 3, 4, 5, 6, 7, 8, 9, 10}"
      ]
     },
     "execution_count": 19,
     "metadata": {},
     "output_type": "execute_result"
    }
   ],
   "source": [
    "A.update([7,8,9,10]) # 한 번에 여러 개의 함수를 추가할 때\n",
    "A"
   ]
  },
  {
   "cell_type": "code",
   "execution_count": 20,
   "id": "89d4d7ea-ca85-4a19-ba71-a781bc119c4d",
   "metadata": {},
   "outputs": [
    {
     "data": {
      "text/plain": [
       "{1, 2, 3, 4, 5, 6, 7, 8, 9}"
      ]
     },
     "execution_count": 20,
     "metadata": {},
     "output_type": "execute_result"
    }
   ],
   "source": [
    "# 값 제거\n",
    "A.remove(10)\n",
    "A"
   ]
  },
  {
   "cell_type": "code",
   "execution_count": 32,
   "id": "c5cd8666-4e26-4082-8921-14ee4d3b859f",
   "metadata": {},
   "outputs": [
    {
     "data": {
      "text/plain": [
       "False"
      ]
     },
     "execution_count": 32,
     "metadata": {},
     "output_type": "execute_result"
    }
   ],
   "source": [
    "A = {1,2,3,}\n",
    "B = {1,2,3,4}\n",
    "A <= B # 부분집합 여부 확인"
   ]
  },
  {
   "cell_type": "code",
   "execution_count": 35,
   "id": "23aa8f6c-9a51-4645-8ef7-64470fbdf3dc",
   "metadata": {},
   "outputs": [
    {
     "data": {
      "text/plain": [
       "True"
      ]
     },
     "execution_count": 35,
     "metadata": {},
     "output_type": "execute_result"
    }
   ],
   "source": [
    "# 공통된 원소가 없다 = 서로소\n",
    "A = {1,2,'바보'}\n",
    "B = {3,4}\n",
    "A.isdisjoint(B) "
   ]
  },
  {
   "cell_type": "code",
   "execution_count": 36,
   "id": "c6377a9f-3852-484e-9fbf-6bc1e4b67cf2",
   "metadata": {},
   "outputs": [
    {
     "data": {
      "text/plain": [
       "set()"
      ]
     },
     "execution_count": 36,
     "metadata": {},
     "output_type": "execute_result"
    }
   ],
   "source": [
    "D"
   ]
  },
  {
   "cell_type": "code",
   "execution_count": 34,
   "id": "821bb46e-fec0-4164-8573-3b32fe525a8a",
   "metadata": {},
   "outputs": [
    {
     "data": {
      "text/plain": [
       "{1, 2, 3, '바보'}"
      ]
     },
     "execution_count": 34,
     "metadata": {},
     "output_type": "execute_result"
    }
   ],
   "source": [
    "A"
   ]
  },
  {
   "cell_type": "code",
   "execution_count": null,
   "id": "f435faf6-0579-4949-a916-984a22b6800f",
   "metadata": {},
   "outputs": [],
   "source": []
  }
 ],
 "metadata": {
  "kernelspec": {
   "display_name": "Python 3 (ipykernel)",
   "language": "python",
   "name": "python3"
  },
  "language_info": {
   "codemirror_mode": {
    "name": "ipython",
    "version": 3
   },
   "file_extension": ".py",
   "mimetype": "text/x-python",
   "name": "python",
   "nbconvert_exporter": "python",
   "pygments_lexer": "ipython3",
   "version": "3.12.7"
  }
 },
 "nbformat": 4,
 "nbformat_minor": 5
}
